{
 "cells": [
  {
   "cell_type": "markdown",
   "id": "a80b64e2",
   "metadata": {},
   "source": [
    "# Pegar os indicadores do BC\n",
    "\n",
    "<p><b>Sistema Gerenciador de Séries Temporais do BC</b></p>\n",
    "https://www3.bcb.gov.br/sgspub/localizarseries/localizarSeries.do?method=prepararTelaLocalizarSeries\n",
    "\n",
    "<p><b>Módulo para obter os dados em Python</b></p>\n",
    "https://wilsonfreitas.github.io/python-bcb/sgs.html"
   ]
  },
  {
   "cell_type": "markdown",
   "id": "bdb7ad2e",
   "metadata": {},
   "source": [
    "## 1.0 Bibliotecas"
   ]
  },
  {
   "cell_type": "code",
   "execution_count": 5,
   "id": "7bcaea86",
   "metadata": {},
   "outputs": [],
   "source": [
    "import mplcyberpunk\n",
    "\n",
    "from bcb                   import currency\n",
    "from bcb                   import sgs\n",
    "\n",
    "import matplotlib.pyplot   as plt\n",
    "import matplotlib.ticker   as mtick\n",
    "import matplotlib.dates    as mdates\n",
    "from matplotlib.dates      import date2num\n",
    "\n",
    "from datetime              import datetime\n",
    "from datetime              import timedelta\n",
    "\n",
    "plt.style.use(\"cyberpunk\")"
   ]
  },
  {
   "cell_type": "markdown",
   "id": "24d05c41",
   "metadata": {},
   "source": [
    "## 2.0 Dados de Taxa de Juros"
   ]
  },
  {
   "cell_type": "code",
   "execution_count": 9,
   "id": "d3fe965d",
   "metadata": {},
   "outputs": [
    {
     "data": {
      "text/html": [
       "<div>\n",
       "<style scoped>\n",
       "    .dataframe tbody tr th:only-of-type {\n",
       "        vertical-align: middle;\n",
       "    }\n",
       "\n",
       "    .dataframe tbody tr th {\n",
       "        vertical-align: top;\n",
       "    }\n",
       "\n",
       "    .dataframe thead th {\n",
       "        text-align: right;\n",
       "    }\n",
       "</style>\n",
       "<table border=\"1\" class=\"dataframe\">\n",
       "  <thead>\n",
       "    <tr style=\"text-align: right;\">\n",
       "      <th></th>\n",
       "      <th>selic</th>\n",
       "    </tr>\n",
       "    <tr>\n",
       "      <th>Date</th>\n",
       "      <th></th>\n",
       "    </tr>\n",
       "  </thead>\n",
       "  <tbody>\n",
       "    <tr>\n",
       "      <th>2010-01-01</th>\n",
       "      <td>8.75</td>\n",
       "    </tr>\n",
       "    <tr>\n",
       "      <th>2010-01-02</th>\n",
       "      <td>8.75</td>\n",
       "    </tr>\n",
       "    <tr>\n",
       "      <th>2010-01-03</th>\n",
       "      <td>8.75</td>\n",
       "    </tr>\n",
       "    <tr>\n",
       "      <th>2010-01-04</th>\n",
       "      <td>8.75</td>\n",
       "    </tr>\n",
       "    <tr>\n",
       "      <th>2010-01-05</th>\n",
       "      <td>8.75</td>\n",
       "    </tr>\n",
       "    <tr>\n",
       "      <th>...</th>\n",
       "      <td>...</td>\n",
       "    </tr>\n",
       "    <tr>\n",
       "      <th>2023-05-27</th>\n",
       "      <td>13.75</td>\n",
       "    </tr>\n",
       "    <tr>\n",
       "      <th>2023-05-28</th>\n",
       "      <td>13.75</td>\n",
       "    </tr>\n",
       "    <tr>\n",
       "      <th>2023-05-29</th>\n",
       "      <td>13.75</td>\n",
       "    </tr>\n",
       "    <tr>\n",
       "      <th>2023-05-30</th>\n",
       "      <td>13.75</td>\n",
       "    </tr>\n",
       "    <tr>\n",
       "      <th>2023-05-31</th>\n",
       "      <td>13.75</td>\n",
       "    </tr>\n",
       "  </tbody>\n",
       "</table>\n",
       "<p>4899 rows × 1 columns</p>\n",
       "</div>"
      ],
      "text/plain": [
       "            selic\n",
       "Date             \n",
       "2010-01-01   8.75\n",
       "2010-01-02   8.75\n",
       "2010-01-03   8.75\n",
       "2010-01-04   8.75\n",
       "2010-01-05   8.75\n",
       "...           ...\n",
       "2023-05-27  13.75\n",
       "2023-05-28  13.75\n",
       "2023-05-29  13.75\n",
       "2023-05-30  13.75\n",
       "2023-05-31  13.75\n",
       "\n",
       "[4899 rows x 1 columns]"
      ]
     },
     "execution_count": 9,
     "metadata": {},
     "output_type": "execute_result"
    }
   ],
   "source": [
    "# Série SELIC\n",
    "\n",
    "dt_inicio = '2010-01-01' #data inicial da série temporal\n",
    "\n",
    "selic = sgs.get({'selic': 432}, start = dt_inicio) # selecionando a selic 432 conforme a tabela do BC\n",
    "\n",
    "selic # mostrando os dados"
   ]
  },
  {
   "cell_type": "code",
   "execution_count": 10,
   "id": "1a3c02f5",
   "metadata": {},
   "outputs": [
    {
     "data": {
      "image/png": "[encoded data removed]",
      "text/plain": [
       "<Figure size 640x480 with 1 Axes>"
      ]
     },
     "metadata": {},
     "output_type": "display_data"
    }
   ],
   "source": [
    "fig, ax = plt.subplots()\n",
    "\n",
    "plt.style.use('cyberpunk') # ativando o estilo de visualização do gráfico\n",
    "\n",
    "ax.plot(selic.index, selic['selic']) # plotando no eixo 'x' as datas que estão no index dos dados ('selic.index') e informado os dados na coluna 'selic'\n",
    "ax.yaxis.set_major_formatter(mtick.PercentFormatter()) # transformando o eixo 'y' em porcentagem\n",
    "ax.grid(False) # removendo as linhas do grid para deixar a exibição mais limpa\n",
    "plt.savefig('selic.png', dpi = 300) # salvando a imagem \n",
    "\n",
    "plt.show() # exibindo o gráfico"
   ]
  },
  {
   "cell_type": "markdown",
   "id": "a9cb320f",
   "metadata": {},
   "source": [
    "## 3.0 Dados de Inflação"
   ]
  },
  {
   "cell_type": "code",
   "execution_count": 12,
   "id": "c852ce8d",
   "metadata": {},
   "outputs": [
    {
     "data": {
      "text/html": [
       "<div>\n",
       "<style scoped>\n",
       "    .dataframe tbody tr th:only-of-type {\n",
       "        vertical-align: middle;\n",
       "    }\n",
       "\n",
       "    .dataframe tbody tr th {\n",
       "        vertical-align: top;\n",
       "    }\n",
       "\n",
       "    .dataframe thead th {\n",
       "        text-align: right;\n",
       "    }\n",
       "</style>\n",
       "<table border=\"1\" class=\"dataframe\">\n",
       "  <thead>\n",
       "    <tr style=\"text-align: right;\">\n",
       "      <th></th>\n",
       "      <th>ipca</th>\n",
       "      <th>igp-m</th>\n",
       "    </tr>\n",
       "    <tr>\n",
       "      <th>Date</th>\n",
       "      <th></th>\n",
       "      <th></th>\n",
       "    </tr>\n",
       "  </thead>\n",
       "  <tbody>\n",
       "    <tr>\n",
       "      <th>2022-11-01</th>\n",
       "      <td>0.41</td>\n",
       "      <td>-0.56</td>\n",
       "    </tr>\n",
       "    <tr>\n",
       "      <th>2022-12-01</th>\n",
       "      <td>0.62</td>\n",
       "      <td>0.45</td>\n",
       "    </tr>\n",
       "    <tr>\n",
       "      <th>2023-01-01</th>\n",
       "      <td>0.53</td>\n",
       "      <td>0.21</td>\n",
       "    </tr>\n",
       "    <tr>\n",
       "      <th>2023-02-01</th>\n",
       "      <td>0.84</td>\n",
       "      <td>-0.06</td>\n",
       "    </tr>\n",
       "    <tr>\n",
       "      <th>2023-03-01</th>\n",
       "      <td>0.71</td>\n",
       "      <td>0.05</td>\n",
       "    </tr>\n",
       "    <tr>\n",
       "      <th>2023-04-01</th>\n",
       "      <td>0.61</td>\n",
       "      <td>-0.95</td>\n",
       "    </tr>\n",
       "    <tr>\n",
       "      <th>2023-05-01</th>\n",
       "      <td>NaN</td>\n",
       "      <td>-1.84</td>\n",
       "    </tr>\n",
       "  </tbody>\n",
       "</table>\n",
       "</div>"
      ],
      "text/plain": [
       "            ipca  igp-m\n",
       "Date                   \n",
       "2022-11-01  0.41  -0.56\n",
       "2022-12-01  0.62   0.45\n",
       "2023-01-01  0.53   0.21\n",
       "2023-02-01  0.84  -0.06\n",
       "2023-03-01  0.71   0.05\n",
       "2023-04-01  0.61  -0.95\n",
       "2023-05-01   NaN  -1.84"
      ]
     },
     "execution_count": 12,
     "metadata": {},
     "output_type": "execute_result"
    }
   ],
   "source": [
    "# Período de análise\n",
    "\n",
    "hoje = datetime.now() # data atual\n",
    "um_ano_atras = hoje - timedelta(days = 366) # determinando 1 ano antes\n",
    "\n",
    "# Selecionando e buscando os dados\n",
    "inflacao = sgs.get({'ipca':  433,\n",
    "                    'igp-m': 189}, start = um_ano_atras + timedelta(180))\n",
    "\n",
    "inflacao"
   ]
  },
  {
   "cell_type": "code",
   "execution_count": 37,
   "id": "9b518d0a",
   "metadata": {},
   "outputs": [
    {
     "ename": "TypeError",
     "evalue": "unsupported operand type(s) for -: 'tuple' and 'int'",
     "output_type": "error",
     "traceback": [
      "\u001b[1;31m---------------------------------------------------------------------------\u001b[0m",
      "\u001b[1;31mTypeError\u001b[0m                                 Traceback (most recent call last)",
      "Cell \u001b[1;32mIn[37], line 9\u001b[0m\n\u001b[0;32m      5\u001b[0m datas_numericas \u001b[38;5;241m=\u001b[39m plt\u001b[38;5;241m.\u001b[39msubplots()\n\u001b[0;32m      7\u001b[0m fig, ax \u001b[38;5;241m=\u001b[39m plt\u001b[38;5;241m.\u001b[39msubplots()\n\u001b[1;32m----> 9\u001b[0m ax\u001b[38;5;241m.\u001b[39mbar(\u001b[43mdatas_numericas\u001b[49m\u001b[38;5;241;43m-\u001b[39;49m\u001b[38;5;241;43m7\u001b[39;49m, inflacao[\u001b[38;5;124m'\u001b[39m\u001b[38;5;124mipca\u001b[39m\u001b[38;5;124m'\u001b[39m], label \u001b[38;5;241m=\u001b[39m \u001b[38;5;124m'\u001b[39m\u001b[38;5;124mIPCA\u001b[39m\u001b[38;5;124m'\u001b[39m, width \u001b[38;5;241m=\u001b[39m \u001b[38;5;241m7\u001b[39m)\n\u001b[0;32m     10\u001b[0m ax\u001b[38;5;241m.\u001b[39mbar(datas_numericas, inflacao[\u001b[38;5;124m'\u001b[39m\u001b[38;5;124migp-m\u001b[39m\u001b[38;5;124m'\u001b[39m], label \u001b[38;5;241m=\u001b[39m \u001b[38;5;124m'\u001b[39m\u001b[38;5;124mIGP-M\u001b[39m\u001b[38;5;124m'\u001b[39m, width \u001b[38;5;241m=\u001b[39m \u001b[38;5;241m7\u001b[39m)\n\u001b[0;32m     12\u001b[0m ax\u001b[38;5;241m.\u001b[39myaxis\u001b[38;5;241m.\u001b[39mset_major_formatter(mtick\u001b[38;5;241m.\u001b[39mPercentFormatter())\n",
      "\u001b[1;31mTypeError\u001b[0m: unsupported operand type(s) for -: 'tuple' and 'int'"
     ]
    },
    {
     "data": {
      "image/png": "[encoded data removed]",
      "text/plain": [
       "<Figure size 640x480 with 1 Axes>"
      ]
     },
     "metadata": {},
     "output_type": "display_data"
    },
    {
     "data": {
      "image/png": "[encoded data removed]",
      "text/plain": [
       "<Figure size 640x480 with 1 Axes>"
      ]
     },
     "metadata": {},
     "output_type": "display_data"
    }
   ],
   "source": [
    "# Gráfico\n",
    "\n",
    "datas_numericas = date2num(inflacao.index)\n",
    "\n",
    "datas_numericas = plt.subplots()\n",
    "\n",
    "fig, ax = plt.subplots()\n",
    "\n",
    "ax.bar(datas_numericas-7, inflacao['ipca'], label = 'IPCA', width = 7)\n",
    "ax.bar(datas_numericas, inflacao['igp-m'], label = 'IGP-M', width = 7)\n",
    "\n",
    "ax.yaxis.set_major_formatter(mtick.PercentFormatter())\n",
    "ax.xaxis_date()\n",
    "formato_data = mdates.DateFormatter('%b-%y')\n",
    "ax.xaxis.set_major_formatter(formato_data)\n",
    "ax.grid(False)\n",
    "plt.axhline(y=0, color='w')\n",
    "plt.legend()\n",
    "plt.savefig('inflacao.png', dpi = 300)\n",
    "\n",
    "plt.show()"
   ]
  },
  {
   "cell_type": "code",
   "execution_count": null,
   "id": "8d4eeb3b",
   "metadata": {},
   "outputs": [],
   "source": []
  }
 ],
 "metadata": {
  "kernelspec": {
   "display_name": "Python 3 (ipykernel)",
   "language": "python",
   "name": "python3"
  },
  "language_info": {
   "codemirror_mode": {
    "name": "ipython",
    "version": 3
   },
   "file_extension": ".py",
   "mimetype": "text/x-python",
   "name": "python",
   "nbconvert_exporter": "python",
   "pygments_lexer": "ipython3",
   "version": "3.10.9"
  }
 },
 "nbformat": 4,
 "nbformat_minor": 5
}
