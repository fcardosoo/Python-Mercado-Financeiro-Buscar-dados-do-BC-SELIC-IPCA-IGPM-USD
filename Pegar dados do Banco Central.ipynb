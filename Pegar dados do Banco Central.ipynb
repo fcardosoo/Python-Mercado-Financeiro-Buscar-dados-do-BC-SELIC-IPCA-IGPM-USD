{
 "cells": [
  {
   "cell_type": "markdown",
   "id": "b24fc790",
   "metadata": {},
   "source": [
    "# Pegar os indicadores do BC\n",
    "\n",
    "<p><b>Sistema Gerenciador de Séries Temporais do BC</b></p>\n",
    "https://www3.bcb.gov.br/sgspub/localizarseries/localizarSeries.do?method=prepararTelaLocalizarSeries\n",
    "\n",
    "<p><b>Módulo para obter os dados em Python</b></p>\n",
    "https://wilsonfreitas.github.io/python-bcb/sgs.html"
   ]
  },
  {
   "cell_type": "markdown",
   "id": "21363bd3",
   "metadata": {},
   "source": [
    "## 1.0 Bibliotecas"
   ]
  },
  {
   "cell_type": "code",
   "execution_count": 5,
   "id": "09aa9a95",
   "metadata": {},
   "outputs": [],
   "source": [
    "import mplcyberpunk\n",
    "\n",
    "from bcb                   import currency\n",
    "from bcb                   import sgs\n",
    "\n",
    "import matplotlib.pyplot   as plt\n",
    "import matplotlib.ticker   as mtick\n",
    "import matplotlib.dates    as mdates\n",
    "from matplotlib.dates      import date2num\n",
    "\n",
    "from datetime              import datetime\n",
    "from datetime              import timedelta\n",
    "\n",
    "plt.style.use(\"cyberpunk\")"
   ]
  },
  {
   "cell_type": "markdown",
   "id": "86d4eee7",
   "metadata": {},
   "source": [
    "## 2.0 Dados de Taxa de Juros"
   ]
  },
  {
   "cell_type": "code",
   "execution_count": 6,
   "id": "c07e3b7d",
   "metadata": {},
   "outputs": [
    {
     "data": {
      "text/html": [
       "<div>\n",
       "<style scoped>\n",
       "    .dataframe tbody tr th:only-of-type {\n",
       "        vertical-align: middle;\n",
       "    }\n",
       "\n",
       "    .dataframe tbody tr th {\n",
       "        vertical-align: top;\n",
       "    }\n",
       "\n",
       "    .dataframe thead th {\n",
       "        text-align: right;\n",
       "    }\n",
       "</style>\n",
       "<table border=\"1\" class=\"dataframe\">\n",
       "  <thead>\n",
       "    <tr style=\"text-align: right;\">\n",
       "      <th></th>\n",
       "      <th>selic</th>\n",
       "    </tr>\n",
       "    <tr>\n",
       "      <th>Date</th>\n",
       "      <th></th>\n",
       "    </tr>\n",
       "  </thead>\n",
       "  <tbody>\n",
       "    <tr>\n",
       "      <th>2010-01-01</th>\n",
       "      <td>8.75</td>\n",
       "    </tr>\n",
       "    <tr>\n",
       "      <th>2010-01-02</th>\n",
       "      <td>8.75</td>\n",
       "    </tr>\n",
       "    <tr>\n",
       "      <th>2010-01-03</th>\n",
       "      <td>8.75</td>\n",
       "    </tr>\n",
       "    <tr>\n",
       "      <th>2010-01-04</th>\n",
       "      <td>8.75</td>\n",
       "    </tr>\n",
       "    <tr>\n",
       "      <th>2010-01-05</th>\n",
       "      <td>8.75</td>\n",
       "    </tr>\n",
       "    <tr>\n",
       "      <th>...</th>\n",
       "      <td>...</td>\n",
       "    </tr>\n",
       "    <tr>\n",
       "      <th>2023-05-27</th>\n",
       "      <td>13.75</td>\n",
       "    </tr>\n",
       "    <tr>\n",
       "      <th>2023-05-28</th>\n",
       "      <td>13.75</td>\n",
       "    </tr>\n",
       "    <tr>\n",
       "      <th>2023-05-29</th>\n",
       "      <td>13.75</td>\n",
       "    </tr>\n",
       "    <tr>\n",
       "      <th>2023-05-30</th>\n",
       "      <td>13.75</td>\n",
       "    </tr>\n",
       "    <tr>\n",
       "      <th>2023-05-31</th>\n",
       "      <td>13.75</td>\n",
       "    </tr>\n",
       "  </tbody>\n",
       "</table>\n",
       "<p>4899 rows × 1 columns</p>\n",
       "</div>"
      ],
      "text/plain": [
       "            selic\n",
       "Date             \n",
       "2010-01-01   8.75\n",
       "2010-01-02   8.75\n",
       "2010-01-03   8.75\n",
       "2010-01-04   8.75\n",
       "2010-01-05   8.75\n",
       "...           ...\n",
       "2023-05-27  13.75\n",
       "2023-05-28  13.75\n",
       "2023-05-29  13.75\n",
       "2023-05-30  13.75\n",
       "2023-05-31  13.75\n",
       "\n",
       "[4899 rows x 1 columns]"
      ]
     },
     "execution_count": 6,
     "metadata": {},
     "output_type": "execute_result"
    }
   ],
   "source": [
    "# Série SELIC\n",
    "\n",
    "selic = sgs.get({'selic': 432}, start = '2010-01-01')\n",
    "\n",
    "selic"
   ]
  },
  {
   "cell_type": "code",
   "execution_count": null,
   "id": "155de2ff",
   "metadata": {},
   "outputs": [],
   "source": [
    "fig, ax = plt.subplot()\n",
    "\n",
    "plt.style.use('cyberpunk')\n",
    "\n"
   ]
  },
  {
   "cell_type": "code",
   "execution_count": null,
   "id": "087ccbe8",
   "metadata": {},
   "outputs": [],
   "source": [
    "## 3.0"
   ]
  },
  {
   "cell_type": "code",
   "execution_count": null,
   "id": "c624b497",
   "metadata": {},
   "outputs": [],
   "source": []
  }
 ],
 "metadata": {
  "kernelspec": {
   "display_name": "Python 3 (ipykernel)",
   "language": "python",
   "name": "python3"
  },
  "language_info": {
   "codemirror_mode": {
    "name": "ipython",
    "version": 3
   },
   "file_extension": ".py",
   "mimetype": "text/x-python",
   "name": "python",
   "nbconvert_exporter": "python",
   "pygments_lexer": "ipython3",
   "version": "3.10.9"
  }
 },
 "nbformat": 4,
 "nbformat_minor": 5
}
